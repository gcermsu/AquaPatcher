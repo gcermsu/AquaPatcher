{
 "cells": [
  {
   "metadata": {},
   "cell_type": "markdown",
   "source": [
    "**Sliding Window Patcher (method=1):**\n",
    "\n",
    "Uniformly extracts patches using a sliding window across the image. General-purpose tiling over the full image.\n",
    "Required Inputs:\n",
    "\n",
    "- *input_path_mask*: Path to the binary mask (single band GeoTIFF).\n",
    "- *input_path_image*: Path to the input image (multi-band GeoTIFF).\n",
    "- *output_dir*: Directory to save output patches. Creates imgs/ and masks/ subfolders.\n",
    "- *patch_size (default: 256)*: Size of the square patch in pixels.\n",
    "- *stride (default: 128)*: Step size of the sliding window.\n",
    "- *min_valid_pixels (default: 3)*: Minimum positive pixels in the patch mask.\n",
    "- *set_nan (default: True)*: Replace NaN and -9999 with 0 in the image."
   ],
   "id": "2ff3a2021686255c"
  },
  {
   "cell_type": "code",
   "id": "initial_id",
   "metadata": {
    "collapsed": true
   },
   "source": [
    "from src import call_method\n",
    "\n",
    "params = {\n",
    "    \"input_path_mask\":,\n",
    "    \"input_path_image\":,\n",
    "    \"output_dir\":,\n",
    "    \"patch_size\": 256,\n",
    "    \"stride\": 128,\n",
    "    \"min_valid_pixels\": 10,\n",
    "    \"set_nan\": True\n",
    "}\n",
    "\n",
    "method_ = 1\n",
    "call_method.call_patcher_method(method_, params)"
   ],
   "outputs": [],
   "execution_count": null
  },
  {
   "metadata": {},
   "cell_type": "markdown",
   "source": [
    "**Regular Grid Water-Based Patcher (method=2):**\n",
    "\n",
    "Generates patches centered on a regular grid of points inside detected water bodies. Uniform sampling over water areas.\n",
    "\n",
    "Required Inputs:\n",
    "\n",
    "- *input_img_files*: Path to the folder with band images. Requires: 'B03' for the green band, 'B06' or 'B11' for the SWIR band, and 'cloud' or 'CLOUD' for cloud mask band (All bands must be scaled by 10000 and have -9999 as no data).\n",
    "- *input_path_mask:* Path to the patch label mask (single band).\n",
    "- *input_path_image:* Path to the image to patch (multi-band).\n",
    "- *output_dir:* Directory to save patches (imgs/ and masks/).\n",
    "- *patch_size (default: 256):* Size of the square patch in pixels.\n",
    "- *min_valid_pixels (default: 3):* Minimum positive pixels in the patch mask.\n",
    "- *set_nan (default: True):* Replace NaN and -9999 with 0 in the image.\n",
    "- *spacing_grid (default: 100):* Distance between patch centers in pixels."
   ],
   "id": "cb208b07b24dd231"
  },
  {
   "metadata": {
    "ExecuteTime": {
     "end_time": "2025-05-20T23:00:22.494138Z",
     "start_time": "2025-05-20T23:00:20.411795Z"
    }
   },
   "cell_type": "code",
   "source": [
    "from src import call_method\n",
    "\n",
    "params = {\n",
    "    \"input_img_files\":,\n",
    "    \"input_path_mask\":,\n",
    "    \"input_path_image\":,\n",
    "    \"output_dir\":,\n",
    "    \"patch_size\": 256,\n",
    "    \"min_valid_pixels\": 3,\n",
    "    \"set_nan\": True,\n",
    "    \"spacing_grid\": 128\n",
    "}\n",
    "\n",
    "method_ = 2\n",
    "\n",
    "call_method.call_patcher_method(method_, params)"
   ],
   "id": "68d88898cab6a70a",
   "outputs": [
    {
     "name": "stdout",
     "output_type": "stream",
     "text": [
      "Running regular point-based patcher for water-pixels only.\n",
     ]
    }
   ],
   "execution_count": 4
  },
  {
   "metadata": {},
   "cell_type": "markdown",
   "source": [
    "**Random Water-Based Patcher (method=3):**\n",
    "Randomly samples patch centers within detected water bodies. Stochastic sampling in water regions for training diversity.\n",
    "\n",
    "Required Inputs:\n",
    "\n",
    "- *input_img_files:* Dictionary of input bands to compute water mask. Requires: 'B03' for the green band, 'B06' or 'B11' for the SWIR band, and 'cloud' or 'CLOUD' for cloud mask band (All bands must be scaled by 10000 and have -9999 as no data).\n",
    "- *input_path_mask:* Path to the patch label mask (single band).\n",
    "- *input_path_image:* Path to the image to patch (multi-band).\n",
    "- *output_dir:* Directory to save patches (imgs/ and masks/).\n",
    "- *patch_size (default: 256):* Size of the square patch in pixels.\n",
    "- *min_valid_pixels (default: 3):* Minimum positive pixels in the patch mask.\n",
    "- *set_nan (default: True):* Replace NaN and -9999 with 0 in the image.\n",
    "- *min_dist_m (default: 3000)*: Minimum distance allowed between two centroids (in meters)"
   ],
   "id": "9fded7cea6afceb3"
  },
  {
   "metadata": {
    "ExecuteTime": {
     "end_time": "2025-05-21T14:10:58.630192Z",
     "start_time": "2025-05-21T14:09:12.043274Z"
    }
   },
   "cell_type": "code",
   "source": [
    "from src import call_method\n",
    "\n",
    "params = {\n",
    "    \"input_img_files\":,\n",
    "    \"input_path_mask\": ,\n",
    "    \"input_path_image\": ,\n",
    "    \"output_dir\":,\n",
    "    \"patch_size\": 256,\n",
    "    \"min_valid_pixels\": 3,\n",
    "    \"set_nan\": True,\n",
    "    \"min_dist_m\": 3840,\n",
    "    \"drop_edge\": True\n",
    "}\n",
    "\n",
    "method_ = 3\n",
    "\n",
    "call_method.call_patcher_method(method_, params)"
   ],
   "id": "76421fbe3640da28",
   "outputs": [
    {
     "name": "stdout",
     "output_type": "stream",
     "text": [
      "Running random point-based patcher for water-pixels only.\n",
     ]
    }
   ],
   "execution_count": 2
  },
  {
   "metadata": {},
   "cell_type": "markdown",
   "source": [
    "**Random Polygon-Based Patcher (method=4):**\n",
    "\n",
    "Randomly samples patch centers within user-provided polygons (e.g., lakes, river segments). Custom geographic areas of interest (AOIs).\n",
    "\n",
    "- *input_path_polygon:* Path to the polygon file (.gpkg) defining AOIs. Ensure the CRS of the polygon file matches the CRS of the input image.\n",
    "- *input_path_mask:* Path to the patch label mask (single band).\n",
    "- *input_path_image:* Path to the image to patch (multi-band).\n",
    "- *output_dir:* Directory to save patches (imgs/ and masks/).\n",
    "- *patch_size (default: 256):* Size of the square patch in pixels.\n",
    "- *min_valid_pixels (default: 3):* Minimum positive pixels in the patch mask.\n",
    "- *set_nan (default: True):* Replace NaN and -9999 with 0 in the image.\n",
    "- *min_dist_m (default: 3000)*: Minimum distance allowed between two points (in meters)"
   ],
   "id": "3a05b56079eaaed9"
  },
  {
   "metadata": {
    "ExecuteTime": {
     "end_time": "2025-05-21T13:56:37.232706Z",
     "start_time": "2025-05-21T13:56:34.748947Z"
    }
   },
   "cell_type": "code",
   "source": [
    "from src import call_method\n",
    "\n",
    "params = {\n",
    "    \"input_path_polygon\":,\n",
    "    \"input_path_mask\": ,\n",
    "    \"input_path_image\":,\n",
    "    \"output_dir\":,\n",
    "    \"patch_size\": 256,\n",
    "    \"min_valid_pixels\": 3,\n",
    "    \"set_nan\": True,\n",
    "    \"min_dist_m\": 1500\n",
    "}\n",
    "\n",
    "method_ = 4\n",
    "\n",
    "call_method.call_patcher_method(method_, params)"
   ],
   "id": "35c08c787da98444",
   "outputs": [
    {
     "name": "stdout",
     "output_type": "stream",
     "text": [
      "Running random point-based patcher inside polygons.\n"
     ]
    },
    {
     "name": "stderr",
     "output_type": "stream",
     "text": [
      ":112: FutureWarning: Calling int on a single element Series is deprecated and will raise a TypeError in the future. Use int(ser.iloc[0]) instead\n",
      "  n_points = int((1.2 * area_km2) / 5.9)\n"
     ]
    },
    {
     "name": "stdout",
     "output_type": "stream",
     "text": [
     ]
    }
   ],
   "execution_count": 1
  }
 ],
 "metadata": {
  "kernelspec": {
   "display_name": "Python 3",
   "language": "python",
   "name": "python3"
  },
  "language_info": {
   "codemirror_mode": {
    "name": "ipython",
    "version": 2
   },
   "file_extension": ".py",
   "mimetype": "text/x-python",
   "name": "python",
   "nbconvert_exporter": "python",
   "pygments_lexer": "ipython2",
   "version": "2.7.6"
  }
 },
 "nbformat": 4,
 "nbformat_minor": 5
}
