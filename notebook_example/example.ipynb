{
 "cells": [
  {
   "metadata": {},
   "cell_type": "markdown",
   "source": [
    "**Sliding Window Patcher (method=1):**\n",
    "\n",
    "Uniformly extracts patches using a sliding window across the image. General purpose tiling over the full image.\n",
    "Required Inputs:\n",
    "\n",
    "- *input_path_mask*: Path to the binary mask (single band GeoTIFF).\n",
    "- *input_path_image*: Path to the input image (multi-band GeoTIFF).\n",
    "- *output_dir*: Directory to save output patches. Creates imgs/ and masks/ subfolders.\n",
    "- *patch_size (default: 256)*: Size of the square patch in pixels.\n",
    "- *stride (default: 128)*: Step size of the sliding window.\n",
    "- *min_valid_pixels (default: 3)*: Minimum positive pixels in the patch mask.\n",
    "- *set_nan (default: True)*: Replace NaN and -9999 with 0 in the image."
   ],
   "id": "2ff3a2021686255c"
  },
  {
   "cell_type": "code",
   "id": "initial_id",
   "metadata": {
    "collapsed": true
   },
   "source": [
    "from src import call_method\n",
    "\n",
    "params = {\n",
    "    \"input_path_mask\": r\"input path for your image.tif file\",\n",
    "    \"input_path_image\": r\"input path for your ground_truth.tif file\",\n",
    "    \"output_dir\": r\"output path to save the patches (imgs and masks)\",\n",
    "    \"patch_size\": 256,\n",
    "    \"stride\": 128,\n",
    "    \"min_valid_pixels\": 10,\n",
    "    \"set_nan\": True\n",
    "}\n",
    "\n",
    "method_ = 1\n",
    "call_method.call_patcher_method(method_, params)"
   ],
   "outputs": [],
   "execution_count": null
  },
  {
   "metadata": {},
   "cell_type": "markdown",
   "source": [
    "**Regular Grid Water-Based Patcher (method=2):**\n",
    "\n",
    "Generates patches centered on a regular grid of points inside detected water bodies. Uniform sampling over water areas.\n",
    "\n",
    "Required Inputs:\n",
    "\n",
    "- *input_img_files*: Path to the folder with band images. Requires: 'B03' for the green band, 'B06' or 'B11' for the SWIR band, and 'cloud' or 'CLOUD' for cloud mask band (All bands must be scaled by 10000 and have -9999 as no data).\n",
    "- *input_path_mask:* Path to the patch label mask (single band).\n",
    "- *input_path_image:* Path to the image to patch (multi-band).\n",
    "- *output_dir:* Directory to save patches (imgs/ and masks/).\n",
    "- *patch_size (default: 256):* Size of the square patch in pixels.\n",
    "- *min_valid_pixels (default: 3):* Minimum positive pixels in the patch mask.\n",
    "- *set_nan (default: True):* Replace NaN and -9999 with 0 in the image.\n",
    "- *spacing_grid (default: 100):* Distance between patch centers in pixels."
   ],
   "id": "cb208b07b24dd231"
  },
  {
   "metadata": {},
   "cell_type": "code",
   "source": [
    "from src import call_method\n",
    "\n",
    "params = {\n",
    "    \"input_img_files\": r\"input path for bands (green and swir) to generate water mask\",\n",
    "    \"input_path_mask\": r\"input path for your ground_truth.tif file\",\n",
    "    \"input_path_image\": r\"input path for your image.tif file\",\n",
    "    \"output_dir\": r\"output path to save the patches (imgs and masks)\",\n",
    "    \"patch_size\": 256,\n",
    "    \"min_valid_pixels\": 3,\n",
    "    \"set_nan\": True,\n",
    "    \"spacing_grid\": 128\n",
    "}\n",
    "\n",
    "method_ = 2\n",
    "\n",
    "call_method.call_patcher_method(method_, params)"
   ],
   "id": "68d88898cab6a70a",
   "outputs": [],
   "execution_count": null
  },
  {
   "metadata": {},
   "cell_type": "markdown",
   "source": [
    "**Random Water-Based Patcher (method=3):**\n",
    "Randomly samples patch centers within detected water bodies. Stochastic sampling in water regions for training diversity.\n",
    "\n",
    "Required Inputs:\n",
    "\n",
    "- *input_img_files:* Dictionary of input bands to compute water mask. Requires: 'B03' for the green band, 'B06' or 'B11' for the SWIR band, and 'cloud' or 'CLOUD' for cloud mask band (All bands must be scaled by 10000 and have -9999 as no data).\n",
    "- *input_path_mask:* Path to the patch label mask (single band).\n",
    "- *input_path_image:* Path to the image to patch (multi-band).\n",
    "- *output_dir:* Directory to save patches (imgs/ and masks/).\n",
    "- *patch_size (default: 256):* Size of the square patch in pixels.\n",
    "- *min_valid_pixels (default: 3):* Minimum positive pixels in the patch mask.\n",
    "- *set_nan (default: True):* Replace NaN and -9999 with 0 in the image.\n",
    "- *min_dist_m (default: 3000)*: Minimum distance allowed between two centroids (in meters)"
   ],
   "id": "9fded7cea6afceb3"
  },
  {
   "metadata": {},
   "cell_type": "code",
   "source": [
    "from src import call_method\n",
    "\n",
    "params = {\n",
    "    \"input_img_files\": r\"input path for bands (green and swir) to generate water mask\",\n",
    "    \"input_path_mask\": r\"input path for your ground_truth.tif file\",\n",
    "    \"input_path_image\": r\"input path for your image.tif file\",\n",
    "    \"output_dir\": r\"output path to save the patches (imgs and masks)\",\n",
    "    \"patch_size\": 256,\n",
    "    \"min_valid_pixels\": 3,\n",
    "    \"set_nan\": True,\n",
    "    \"min_dist_m\": 3840,\n",
    "    \"drop_edge\": True\n",
    "}\n",
    "\n",
    "method_ = 3\n",
    "\n",
    "call_method.call_patcher_method(method_, params)"
   ],
   "id": "76421fbe3640da28",
   "outputs": [],
   "execution_count": null
  },
  {
   "metadata": {},
   "cell_type": "markdown",
   "source": [
    "**Random Polygon-Based Patcher (method=4):**\n",
    "\n",
    "Randomly samples patch centers within user-provided polygons (e.g., lakes, river segments). Custom geographic areas of interest (AOIs).\n",
    "\n",
    "- *input_path_polygon:* Path to the polygon file (.gpkg) defining AOIs. Ensure the CRS of the polygon file matches the CRS of the input image.\n",
    "- *input_path_mask:* Path to the patch label mask (single band).\n",
    "- *input_path_image:* Path to the image to patch (multi-band).\n",
    "- *output_dir:* Directory to save patches (imgs/ and masks/).\n",
    "- *patch_size (default: 256):* Size of the square patch in pixels.\n",
    "- *min_valid_pixels (default: 3):* Minimum positive pixels in the patch mask.\n",
    "- *set_nan (default: True):* Replace NaN and -9999 with 0 in the image.\n",
    "- *min_dist_m (default: 3000)*: Minimum distance allowed between two points (in meters)"
   ],
   "id": "3a05b56079eaaed9"
  },
  {
   "metadata": {},
   "cell_type": "code",
   "source": [
    "from src import call_method\n",
    "\n",
    "params = {\n",
    "    \"input_path_polygon\": r\"input path for you polygon.gpkg\",\n",
    "    \"input_path_mask\": r\"input path for your ground_truth.tif file\",\n",
    "    \"input_path_image\": r\"input path for your image.tif file\",\n",
    "    \"output_dir\": r\"output path to save the patches (imgs and masks)\",\n",
    "    \"patch_size\": 256,\n",
    "    \"min_valid_pixels\": 3,\n",
    "    \"set_nan\": True,\n",
    "    \"min_dist_m\": 1500\n",
    "}\n",
    "\n",
    "method_ = 4\n",
    "\n",
    "call_method.call_patcher_method(method_, params)"
   ],
   "id": "35c08c787da98444",
   "outputs": [],
   "execution_count": null
  }
 ],
 "metadata": {
  "kernelspec": {
   "display_name": "Python 3",
   "language": "python",
   "name": "python3"
  },
  "language_info": {
   "codemirror_mode": {
    "name": "ipython",
    "version": 2
   },
   "file_extension": ".py",
   "mimetype": "text/x-python",
   "name": "python",
   "nbconvert_exporter": "python",
   "pygments_lexer": "ipython2",
   "version": "2.7.6"
  }
 },
 "nbformat": 4,
 "nbformat_minor": 5
}
