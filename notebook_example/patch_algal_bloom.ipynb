{
 "cells": [
  {
   "metadata": {
    "ExecuteTime": {
     "end_time": "2025-07-13T18:06:13.407041Z",
     "start_time": "2025-07-13T17:55:51.421231Z"
    }
   },
   "cell_type": "code",
   "source": [
    "import os\n",
    "import pandas as pd\n",
    "from pathlib import Path\n",
    "from src import call_method\n",
    "\n",
    "def find_file(input_folder, file_name):\n",
    "    input_path = Path(input_folder)\n",
    "    for file in input_path.iterdir():\n",
    "        if file.name.endswith(file_name):\n",
    "            return str(file)\n",
    "    return None\n",
    "\n",
    "images_path = pd.read_csv(r\"Z:\\guser\\tml\\mypapers\\PACE-HLS\\METHODS\\model_inference\\AQUAVIS_input.csv\")\n",
    "output = r\"Z:\\guser\\tml\\mypapers\\PACE-HLS\\METHODS\\model_inference\\patches\"\n",
    "\n",
    "masks_path = r\"Z:\\guser\\tml\\mypapers\\PACE-HLS\\METHODS\\validation_dataset_construction\\algal_masks_processing\"\n",
    "\n",
    "error = []\n",
    "\n",
    "for i in range(0, len(images_path)):\n",
    "\n",
    "    input_img_files = images_path['image_path'][i]\n",
    "    img_name = os.path.basename(input_img_files)\n",
    "    print(f\"Processing image {img_name}\")\n",
    "\n",
    "    input_path_mask = find_file(os.path.join(masks_path, img_name), \"AlgalMask.tif\")\n",
    "    input_path_image = find_file(os.path.join(masks_path, img_name), \"vnir_stack.tif\")\n",
    "\n",
    "    output_dir = os.path.join(output, img_name)\n",
    "\n",
    "    method_ = 1\n",
    "\n",
    "    params = {\n",
    "    \"input_path_mask\": input_path_mask,\n",
    "    \"input_path_image\": input_path_image,\n",
    "    \"output_dir\": output_dir,\n",
    "    \"patch_size\": 256,\n",
    "    \"stride\": 128,\n",
    "    \"min_valid_pixels\": 0,\n",
    "    \"set_nan\": True\n",
    "    }\n",
    "\n",
    "#     params = {\n",
    "#     \"input_img_files\": input_img_files,\n",
    "#     \"input_path_mask\": input_path_mask,\n",
    "#     \"input_path_image\": input_path_image,\n",
    "#     \"output_dir\": output_dir,\n",
    "#     \"patch_size\": 256,\n",
    "#     \"min_valid_pixels\": 10,\n",
    "#     \"set_nan\": True,\n",
    "#     \"min_dist_m\": 3840,\n",
    "#     \"drop_edge\": True\n",
    "# }\n",
    "\n",
    "    call_method.call_patcher_method(method_, params)\n"
   ],
   "id": "7d24f86322920eb7",
   "outputs": [
    {
     "name": "stdout",
     "output_type": "stream",
     "text": [
      "Processing image AQUAVis_T38PMV_20200323T073600_S30_v1.0\n",
      "Running sliding window patcher.\n",
      "Saved 729 valid patches to: Z:\\guser\\tml\\mypapers\\PACE-HLS\\METHODS\\model_inference\\patches\\AQUAVis_T38PMV_20200323T073600_S30_v1.0\n",
      "Processing image AQUAVis_T38PNV_20200323T073600_S30_v1.0\n",
      "Running sliding window patcher.\n",
      "Saved 729 valid patches to: Z:\\guser\\tml\\mypapers\\PACE-HLS\\METHODS\\model_inference\\patches\\AQUAVis_T38PNV_20200323T073600_S30_v1.0\n"
     ]
    }
   ],
   "execution_count": 12
  }
 ],
 "metadata": {
  "kernelspec": {
   "display_name": "Python 3",
   "language": "python",
   "name": "python3"
  },
  "language_info": {
   "codemirror_mode": {
    "name": "ipython",
    "version": 2
   },
   "file_extension": ".py",
   "mimetype": "text/x-python",
   "name": "python",
   "nbconvert_exporter": "python",
   "pygments_lexer": "ipython2",
   "version": "2.7.6"
  }
 },
 "nbformat": 4,
 "nbformat_minor": 5
}
